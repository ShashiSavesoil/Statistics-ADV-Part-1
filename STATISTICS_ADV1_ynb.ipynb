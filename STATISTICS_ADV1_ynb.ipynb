{
  "nbformat": 4,
  "nbformat_minor": 0,
  "metadata": {
    "colab": {
      "provenance": []
    },
    "kernelspec": {
      "name": "python3",
      "display_name": "Python 3"
    },
    "language_info": {
      "name": "python"
    }
  },
  "cells": [
    {
      "cell_type": "markdown",
      "source": [
        "** Statistics Advance Part 1**"
      ],
      "metadata": {
        "id": "q0HJ_HAwd7Qu"
      }
    },
    {
      "cell_type": "markdown",
      "source": [
        "1. What is a random variable in probability theory\n",
        "- A set of possible values from a random experiment\n",
        "- A function that assigns values to each of experiment outcomes\n",
        "\n",
        "2. What are the types of random variables\n",
        "- Categeorical(Qualitative) and Numerical(Quantative)>>Each subclassified as\n",
        "Categeorical>> Nominal & Ordinal\n",
        "Numerical>> Discrete and Contineous\n",
        "\n",
        "3. What is the difference between discrete and continuous distributions?\n",
        "- numerical data is classified into discrete and contineous , contineous is like any value in the range eg. real numbers, hight,spped ,weight,...\n",
        "Discrete values are whole numbers like number of childern, you can't say 1.5 children.\n",
        "\n",
        "4. What are probability distribution functions (PDF)\n",
        "- The distribution of all possible out comes of random variables is plotted is called probability distribution functions\n",
        "\n",
        "5. How do cumulative distribution functions (CDF) differ from probability distribution functions (PDF)?\n",
        "- Cumulative diatribution is the summation of all probabilities upto a point.\n",
        "where as distribution functions are the just distribution of the all possible out comes irrespective of their nature.\n",
        "\n",
        "6.  What is a discrete uniform distribution?\n",
        "- The distribution in which the probability of all the outcomes are equal of discrete variables\n",
        "\n",
        "7. What are the key properties of a Bernoulli distribution?\n",
        "- Describes a random experiment with only two possible outcomes.\n",
        "The mean of bernoulli distributin is p, and variance is p(1-p). The out come of trial will not affect the probability of future trails.\n",
        "\n",
        "8. What is the binomial distribution, and how is it used in probability?\n",
        "- The binomial distribution is a discrete probability distribution that describes the number of successes in a fixed number of independent trials, each with the same probability of success.\n",
        "-A binomial distribution is simply the sum of multiple independent Bernoulli trials-Logistic Regression: Models the probability of a binary outcome (e.g., spam vs. not spam.\n",
        "\n",
        "9. What is the Poisson distribution and where is it applied?\n",
        "- It is discrete probability distribution that describes the no. of events that occur with in fixed interval of time or space given known avg rate of occurance.It can applied like no. of customers entering every hour into shooping mall.\n",
        "\n",
        "10. What is a continuous uniform distribution?\n",
        "- In a distribution where the probability of getting all the outcomes are equal of a contineous random variable.\n",
        "\n",
        "11. What  are the characteristics of a normal distribution?\n",
        "- Emperical rule of normal distributon >>68% of teh data lies within the 1 standard deviation , 95% in 2nd SD d 99.7 in 3rd SD.\n",
        "-Bell-Shaped Curve\n",
        "-Symmetric about mean\n",
        "-mean=mode=median\n",
        "-skewness =0\n",
        "\n",
        "12. What is the standard normal distribution, and why is it important?\n",
        "- A special case of contineous normal distribution where mu=0 and var=1.\n",
        "- Since all SND will have same mean and variance(0,1) using Z table we can find the probability.\n",
        "-This helps compare different datasets on a common scale.\n",
        "\n",
        "13. What is the Central Limit Theorem (CLT), and why is it critical in statistics?\n",
        "- The CLT states that if you have a population with a mean and variance and take sufficiently large no. of samples from the population with replacement than the ditribution of teh means will be approximetly follow normal distribution.\n",
        "Sampling mean of a population (mu, var) will approximetly be a noraml distribution(mu,var/root(n))\n",
        "- Used to analyze the irregular distributed data of not having  any pattern.\n",
        "- Allows normal approx. for any popuplation.\n",
        "- most real-world data is not normally distributed, but thanks to CLT, we can still apply normal-based statistical techniques.\n",
        "\n",
        "14.  How does the Central Limit Theorem relate to the normal distribution?\n",
        "- The central limit theorm is the the approx.  norrmal distribution of means of population samples.\n",
        "- The CLT enables us to standardize sample means using the Z-score\n",
        "-This transformation allows us to use normal probability tables to find probabilities related to sample means.\n",
        "\n",
        "15. What is the application of Z statistics in hypothesis testing?\n",
        "- The Z score is used to standardize the data.\n",
        "-It helps determine whether a sample mean significantly differs from a population mean.\n",
        "- Used when sample size >=30 and mean of population is known\n",
        "\n",
        "16. How do you calculate a Z-score, and what does it represent?\n",
        "- The z score is calculated by subracting each value with mean(of pop) and divided by variance (of pop).\n",
        "- It measures the how many standard deviations the data point is from the mean.\n",
        "-compare the different distributions\n",
        "- finding outliers id Z>3\n",
        "\n",
        "17. What are point estimates and interval estimates in statistics\n",
        "- A point estimate is a single value used to estimate the true valuer of a population parameter.\n",
        "-Interavl estimater is a range of value used to estimate\n",
        "\n",
        "18. What is the significance of confidence intervals in statistical analysis?\n",
        "- To avoid uncertainaty in prediction confidance interval helps.\n",
        "-A confidence interval (CI) helps quantify this uncertainty by providing a range where the true population parameter (like the mean or proportion) is likely to be.\n",
        "\n",
        "19. What is the relationship between a Z-score and a confidence interval.\n",
        "- To calculate the confodence interval we use the Z-score value and z-score  determines how width the the C.I\n",
        "-The Z-score represents how many standard deviations a value is from the mean, while the confidence interval provides a range within which the true population parameter is likely to fall.\n",
        "\n",
        "20. How are Z-scores used to compare different distributions\n",
        "- All the distributios are standardized using table we compare the probabilities values.\n",
        "-Z-scores allow direct comparisons of data from different distributions.\n",
        "-Normalizes the data and removes the units , determines which value is more extreme in the data.\n",
        "\n",
        "21. What are the assumptions for applying the Central Limit Theorem?\n",
        "- no. of samaples >=30 and variance of the popultion should be known.\n",
        "\n",
        "22. What is the concept of expected value in a probability distribution?\n",
        "- The expected value (EV) of a probability distribution represents the long-run average outcome of a random variable after many trials. It is also known as the mean (μ) of the distribution.\n",
        "-It does NOT mean the most likely value, but rather the long-term average outcome.\n",
        "\n",
        "23. How does a probability distribution relate to the expected outcome of a random variable?\n",
        "- A probability distribution describes how likely different outcomes of a random variable are. The expected value (EV) of a random variable is the long-term average of these outcomes, weighted by their probabilities.\n",
        "\n",
        "-The probability distribution determines the likelihood of each outcome, and the expected value summarizes the average outcome over many trials.\n",
        "\n",
        "\n",
        "\n"
      ],
      "metadata": {
        "id": "Qp8RtBsheFIz"
      }
    },
    {
      "cell_type": "markdown",
      "source": [
        "**Practical**"
      ],
      "metadata": {
        "id": "gt8shKLnPNwT"
      }
    },
    {
      "cell_type": "code",
      "source": [
        "#Write a Python program to generate a random variable and display its value"
      ],
      "metadata": {
        "id": "XTvmwT2weo3v"
      },
      "execution_count": 1,
      "outputs": []
    },
    {
      "cell_type": "code",
      "source": [
        "import numpy as np\n",
        "import pandas as pd"
      ],
      "metadata": {
        "id": "na1QdHWCPWGP"
      },
      "execution_count": 5,
      "outputs": []
    },
    {
      "cell_type": "markdown",
      "source": [],
      "metadata": {
        "id": "QgHMwySFPV0u"
      }
    },
    {
      "cell_type": "code",
      "source": [
        "random_variable=np.random.randint(1,100,10)"
      ],
      "metadata": {
        "id": "sEAeAMMlQUO_"
      },
      "execution_count": 15,
      "outputs": []
    },
    {
      "cell_type": "code",
      "source": [
        "print(\"Generated random variable\" ,random_variable)"
      ],
      "metadata": {
        "id": "mojkcEfZQb3U",
        "outputId": "10fa79c2-f6f1-43c2-ff3d-290aa8158bf5",
        "colab": {
          "base_uri": "https://localhost:8080/"
        }
      },
      "execution_count": 16,
      "outputs": [
        {
          "output_type": "stream",
          "name": "stdout",
          "text": [
            "Generated random variable [30 99 11 83 21 69 59 24 98 79]\n"
          ]
        }
      ]
    },
    {
      "cell_type": "code",
      "source": [
        "# Generate a discrete uniform distribution using Python and plot the probability mass function (PMF)"
      ],
      "metadata": {
        "id": "bSAaPFGYQseF"
      },
      "execution_count": null,
      "outputs": []
    },
    {
      "cell_type": "code",
      "source": [
        "# Write a Python function to calculate the probability distribution function (PDF) of a Bernoulli distribution"
      ],
      "metadata": {
        "id": "v0oPldHDQv_l"
      },
      "execution_count": null,
      "outputs": []
    },
    {
      "cell_type": "code",
      "source": [
        "import numpy as np\n",
        "import matplotlib.pyplot as plt\n",
        "import seaborn as sns\n",
        "\n",
        "# Create and visualize a Poisson distribution\n",
        "lambda_ = 4  # Expected number of occurrences\n",
        "size = 10000  # Number of samples\n",
        "poisson_samples = np.random.poisson(lambda_, size)\n",
        "\n",
        "# Plot histogram\n",
        "plt.figure(figsize=(8, 5))\n",
        "sns.histplot(poisson_samples, bins=range(0, max(poisson_samples)+1), kde=False, color='red', alpha=0.7)\n",
        "plt.xlabel(\"Number of Events\")\n",
        "plt.ylabel(\"Frequency\")\n",
        "plt.title(\"Histogram of Poisson Distribution (lambda=4)\")\n",
        "plt.xticks(range(0, max(poisson_samples)+1))\n",
        "plt.show()\n"
      ],
      "metadata": {
        "id": "7RJQ6TbYUQmv",
        "outputId": "cbf5c3f8-fe2c-4b74-cd36-60df4ee8835c",
        "colab": {
          "base_uri": "https://localhost:8080/",
          "height": 487
        }
      },
      "execution_count": 22,
      "outputs": [
        {
          "output_type": "display_data",
          "data": {
            "text/plain": [
              "<Figure size 800x500 with 1 Axes>"
            ],
            "image/png": "[encoded data removed]"
          },
          "metadata": {}
        }
      ]
    },
    {
      "cell_type": "code",
      "source": [
        "#Write a Python program to calculate and plot the cumulative distribution function (CDF) of a discrete uniform distribution>\n"
      ],
      "metadata": {
        "id": "Z85gKlI-WtVf"
      },
      "execution_count": null,
      "outputs": []
    },
    {
      "cell_type": "code",
      "source": [],
      "metadata": {
        "id": "8LtSRH10W0-G"
      },
      "execution_count": null,
      "outputs": []
    }
  ]
}